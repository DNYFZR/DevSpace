{
 "cells": [
  {
   "cell_type": "code",
   "execution_count": 1,
   "metadata": {},
   "outputs": [
    {
     "name": "stdout",
     "output_type": "stream",
     "text": [
      "Defaulting to user installation because normal site-packages is not writeable\n",
      "Processing c:\\users\\daniel\\documents\\github\\pydevlib\\src\\dist\\pydev-0.2.3-py3-none-any.whl\n",
      "Installing collected packages: pyDev\n",
      "  Attempting uninstall: pyDev\n",
      "    Found existing installation: pyDev 0.2.3\n",
      "    Uninstalling pyDev-0.2.3:\n",
      "      Successfully uninstalled pyDev-0.2.3\n",
      "Successfully installed pyDev-0.2.3\n",
      "Note: you may need to restart the kernel to use updated packages.\n"
     ]
    },
    {
     "name": "stderr",
     "output_type": "stream",
     "text": [
      "WARNING: There was an error checking the latest version of pip.\n"
     ]
    }
   ],
   "source": [
    "%pip install --force-reinstall src/dist/pyDev-0.2.3-py3-none-any.whl"
   ]
  },
  {
   "cell_type": "code",
   "execution_count": 2,
   "metadata": {},
   "outputs": [],
   "source": [
    "from pyDev import library as lib\n",
    "api = lib.carbon_api('Scotland')"
   ]
  },
  {
   "cell_type": "code",
   "execution_count": 3,
   "metadata": {},
   "outputs": [
    {
     "name": "stdout",
     "output_type": "stream",
     "text": [
      "<class 'pandas.core.frame.DataFrame'>\n",
      "Int64Index: 288 entries, 15 to 5181\n",
      "Data columns (total 15 columns):\n",
      " #   Column              Non-Null Count  Dtype              \n",
      "---  ------              --------------  -----              \n",
      " 0   Start               288 non-null    datetime64[ns, UTC]\n",
      " 1   End                 288 non-null    datetime64[ns, UTC]\n",
      " 2   ID                  288 non-null    int64              \n",
      " 3   Name                288 non-null    object             \n",
      " 4   Intensity           288 non-null    int64              \n",
      " 5   Intensity Category  288 non-null    object             \n",
      " 6   Biomass %           288 non-null    float64            \n",
      " 7   Hydro %             288 non-null    float64            \n",
      " 8   Solar %             288 non-null    float64            \n",
      " 9   Wind %              288 non-null    float64            \n",
      " 10  Coal %              288 non-null    int64              \n",
      " 11  Gas %               288 non-null    float64            \n",
      " 12  Nuclear %           288 non-null    float64            \n",
      " 13  Imports %           288 non-null    float64            \n",
      " 14  Other %             288 non-null    int64              \n",
      "dtypes: datetime64[ns, UTC](2), float64(7), int64(4), object(2)\n",
      "memory usage: 36.0+ KB\n"
     ]
    }
   ],
   "source": [
    "api.info()"
   ]
  },
  {
   "cell_type": "code",
   "execution_count": 5,
   "metadata": {},
   "outputs": [
    {
     "data": {
      "text/html": [
       "<div>\n",
       "<style scoped>\n",
       "    .dataframe tbody tr th:only-of-type {\n",
       "        vertical-align: middle;\n",
       "    }\n",
       "\n",
       "    .dataframe tbody tr th {\n",
       "        vertical-align: top;\n",
       "    }\n",
       "\n",
       "    .dataframe thead th {\n",
       "        text-align: right;\n",
       "    }\n",
       "</style>\n",
       "<table border=\"1\" class=\"dataframe\">\n",
       "  <thead>\n",
       "    <tr style=\"text-align: right;\">\n",
       "      <th></th>\n",
       "      <th>ID</th>\n",
       "      <th>Intensity</th>\n",
       "      <th>Biomass %</th>\n",
       "      <th>Hydro %</th>\n",
       "      <th>Solar %</th>\n",
       "      <th>Wind %</th>\n",
       "      <th>Coal %</th>\n",
       "      <th>Gas %</th>\n",
       "      <th>Nuclear %</th>\n",
       "      <th>Imports %</th>\n",
       "      <th>Other %</th>\n",
       "    </tr>\n",
       "  </thead>\n",
       "  <tbody>\n",
       "    <tr>\n",
       "      <th>count</th>\n",
       "      <td>288.0</td>\n",
       "      <td>288.000000</td>\n",
       "      <td>288.000000</td>\n",
       "      <td>288.000000</td>\n",
       "      <td>288.000000</td>\n",
       "      <td>288.000000</td>\n",
       "      <td>288.0</td>\n",
       "      <td>288.000000</td>\n",
       "      <td>288.000000</td>\n",
       "      <td>288.000000</td>\n",
       "      <td>288.0</td>\n",
       "    </tr>\n",
       "    <tr>\n",
       "      <th>mean</th>\n",
       "      <td>16.0</td>\n",
       "      <td>152.315972</td>\n",
       "      <td>2.962847</td>\n",
       "      <td>7.978819</td>\n",
       "      <td>2.841319</td>\n",
       "      <td>27.378472</td>\n",
       "      <td>0.0</td>\n",
       "      <td>36.007639</td>\n",
       "      <td>20.801389</td>\n",
       "      <td>2.024306</td>\n",
       "      <td>0.0</td>\n",
       "    </tr>\n",
       "    <tr>\n",
       "      <th>std</th>\n",
       "      <td>0.0</td>\n",
       "      <td>42.805624</td>\n",
       "      <td>1.685367</td>\n",
       "      <td>4.264610</td>\n",
       "      <td>3.145617</td>\n",
       "      <td>12.885281</td>\n",
       "      <td>0.0</td>\n",
       "      <td>10.777827</td>\n",
       "      <td>4.347012</td>\n",
       "      <td>2.834783</td>\n",
       "      <td>0.0</td>\n",
       "    </tr>\n",
       "    <tr>\n",
       "      <th>min</th>\n",
       "      <td>16.0</td>\n",
       "      <td>61.000000</td>\n",
       "      <td>1.000000</td>\n",
       "      <td>2.600000</td>\n",
       "      <td>0.000000</td>\n",
       "      <td>8.200000</td>\n",
       "      <td>0.0</td>\n",
       "      <td>13.900000</td>\n",
       "      <td>13.600000</td>\n",
       "      <td>0.000000</td>\n",
       "      <td>0.0</td>\n",
       "    </tr>\n",
       "    <tr>\n",
       "      <th>25%</th>\n",
       "      <td>16.0</td>\n",
       "      <td>119.500000</td>\n",
       "      <td>1.700000</td>\n",
       "      <td>5.100000</td>\n",
       "      <td>0.000000</td>\n",
       "      <td>14.275000</td>\n",
       "      <td>0.0</td>\n",
       "      <td>27.500000</td>\n",
       "      <td>18.200000</td>\n",
       "      <td>0.000000</td>\n",
       "      <td>0.0</td>\n",
       "    </tr>\n",
       "    <tr>\n",
       "      <th>50%</th>\n",
       "      <td>16.0</td>\n",
       "      <td>154.500000</td>\n",
       "      <td>2.200000</td>\n",
       "      <td>6.800000</td>\n",
       "      <td>1.500000</td>\n",
       "      <td>28.200000</td>\n",
       "      <td>0.0</td>\n",
       "      <td>35.800000</td>\n",
       "      <td>20.350000</td>\n",
       "      <td>0.000000</td>\n",
       "      <td>0.0</td>\n",
       "    </tr>\n",
       "    <tr>\n",
       "      <th>75%</th>\n",
       "      <td>16.0</td>\n",
       "      <td>190.000000</td>\n",
       "      <td>3.700000</td>\n",
       "      <td>9.700000</td>\n",
       "      <td>5.600000</td>\n",
       "      <td>37.500000</td>\n",
       "      <td>0.0</td>\n",
       "      <td>46.150000</td>\n",
       "      <td>22.700000</td>\n",
       "      <td>4.150000</td>\n",
       "      <td>0.0</td>\n",
       "    </tr>\n",
       "    <tr>\n",
       "      <th>max</th>\n",
       "      <td>16.0</td>\n",
       "      <td>224.000000</td>\n",
       "      <td>7.500000</td>\n",
       "      <td>25.200000</td>\n",
       "      <td>10.400000</td>\n",
       "      <td>54.300000</td>\n",
       "      <td>0.0</td>\n",
       "      <td>55.800000</td>\n",
       "      <td>36.800000</td>\n",
       "      <td>9.500000</td>\n",
       "      <td>0.0</td>\n",
       "    </tr>\n",
       "  </tbody>\n",
       "</table>\n",
       "</div>"
      ],
      "text/plain": [
       "          ID   Intensity   Biomass %     Hydro %     Solar %      Wind %  \\\n",
       "count  288.0  288.000000  288.000000  288.000000  288.000000  288.000000   \n",
       "mean    16.0  152.315972    2.962847    7.978819    2.841319   27.378472   \n",
       "std      0.0   42.805624    1.685367    4.264610    3.145617   12.885281   \n",
       "min     16.0   61.000000    1.000000    2.600000    0.000000    8.200000   \n",
       "25%     16.0  119.500000    1.700000    5.100000    0.000000   14.275000   \n",
       "50%     16.0  154.500000    2.200000    6.800000    1.500000   28.200000   \n",
       "75%     16.0  190.000000    3.700000    9.700000    5.600000   37.500000   \n",
       "max     16.0  224.000000    7.500000   25.200000   10.400000   54.300000   \n",
       "\n",
       "       Coal %       Gas %   Nuclear %   Imports %  Other %  \n",
       "count   288.0  288.000000  288.000000  288.000000    288.0  \n",
       "mean      0.0   36.007639   20.801389    2.024306      0.0  \n",
       "std       0.0   10.777827    4.347012    2.834783      0.0  \n",
       "min       0.0   13.900000   13.600000    0.000000      0.0  \n",
       "25%       0.0   27.500000   18.200000    0.000000      0.0  \n",
       "50%       0.0   35.800000   20.350000    0.000000      0.0  \n",
       "75%       0.0   46.150000   22.700000    4.150000      0.0  \n",
       "max       0.0   55.800000   36.800000    9.500000      0.0  "
      ]
     },
     "execution_count": 5,
     "metadata": {},
     "output_type": "execute_result"
    }
   ],
   "source": [
    "api.describe()"
   ]
  },
  {
   "cell_type": "code",
   "execution_count": 8,
   "metadata": {},
   "outputs": [],
   "source": []
  },
  {
   "cell_type": "code",
   "execution_count": null,
   "metadata": {},
   "outputs": [],
   "source": []
  }
 ],
 "metadata": {
  "kernelspec": {
   "display_name": "Python 3.9.10 64-bit",
   "language": "python",
   "name": "python3"
  },
  "language_info": {
   "codemirror_mode": {
    "name": "ipython",
    "version": 3
   },
   "file_extension": ".py",
   "mimetype": "text/x-python",
   "name": "python",
   "nbconvert_exporter": "python",
   "pygments_lexer": "ipython3",
   "version": "3.9.10"
  },
  "orig_nbformat": 4,
  "vscode": {
   "interpreter": {
    "hash": "9b4d75ac280b6c7c3aa43866cb82dc88915409b55fec83a093dd0284cb58708e"
   }
  }
 },
 "nbformat": 4,
 "nbformat_minor": 2
}
